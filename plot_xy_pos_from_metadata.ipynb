{
 "cells": [
  {
   "cell_type": "code",
   "execution_count": 1,
   "id": "0caf8b10-aad9-4c9f-91ac-5f8a5f763453",
   "metadata": {},
   "outputs": [
    {
     "name": "stdout",
     "output_type": "stream",
     "text": [
      "mkdir: ../jupyter_figures: File exists\n"
     ]
    }
   ],
   "source": [
    "import sys, os, glob, warnings, logging\n",
    "import numpy as np\n",
    "import pandas as pd\n",
    "import matplotlib\n",
    "import matplotlib.pyplot as plt\n",
    "import seaborn as sns\n",
    "from scipy import stats\n",
    "from sw_plotting import change_bar_width\n",
    "from sw_utilities import tukeyTest\n",
    "\n",
    "logging.basicConfig(stream=sys.stdout, format='%(asctime)s - %(levelname)s - %(message)s', level=logging.ERROR)\n",
    "# logging.basicConfig(stream=sys.stdout, format='%(asctime)s - %(levelname)s - %(message)s', level=logging.INFO)\n",
    "# logging.basicConfig(stream=sys.stdout, format='%(asctime)s - %(levelname)s - %(message)s', level=logging.DEBUG)\n",
    "\n",
    "# ignore warnings\n",
    "warnings.filterwarnings('ignore')\n",
    "\n",
    "# plotting configuration\n",
    "font = {'family' : 'Arial',\n",
    "        'size'   : 7}\n",
    "matplotlib.rc('font', **font)\n",
    "plt.rcParams['svg.fonttype'] = 'none'\n",
    "\n",
    "# Make a folder if it is not already there to store exported figures\n",
    "!mkdir ../jupyter_figures\n"
   ]
  },
  {
   "cell_type": "code",
   "execution_count": 2,
   "id": "65d914ab-6f9a-425e-9291-1f47879d2230",
   "metadata": {},
   "outputs": [],
   "source": [
    "# Utility functions\n",
    "\n",
    "def get_xy(info_file):\n",
    "    '''\n",
    "    Extract x,y positions from text file storing the ND2 metadata\n",
    "    \n",
    "    Input:\n",
    "    ------\n",
    "        Metadata text file generated using the \"Show Info\" function in Fiji.\n",
    "        \n",
    "    Output:\n",
    "    -------\n",
    "        A tuple storing (x, y) as a pair of float numbers.\n",
    "        \n",
    "    '''\n",
    "    with open(info_file, 'r') as f:\n",
    "        lines = f.readlines()\n",
    "\n",
    "    for line in lines:\n",
    "        if line.startswith( 'dXPos' ):\n",
    "            temp = line.split('=')[-1].strip()\n",
    "            x = float(temp)\n",
    "        if line.startswith( 'dYPos' ):\n",
    "            temp = line.split('=')[-1].strip()\n",
    "            y = float(temp)\n",
    "    \n",
    "    return (x, y)\n",
    "\n",
    "def get_xy_df(info_folder):\n",
    "    '''\n",
    "    Extract list of x,y positions from text files storing the ND2 metadata\n",
    "    \n",
    "    Input:\n",
    "    ------\n",
    "        Path to folder containing the metadata text files\n",
    "        generated using the \"Show Info\" function in Fiji.\n",
    "        \n",
    "    Output:\n",
    "    -------\n",
    "        A pandas data frame storing annotated (x, y) positions.\n",
    "    '''\n",
    "    file_list = glob.glob(info_folder + os.path.sep + '*.txt')\n",
    "    file_list.sort()\n",
    "    \n",
    "    xy_list = []\n",
    "    for info_file in file_list:\n",
    "        xy_list.append( get_xy(info_file) )\n",
    "    \n",
    "    xy_list_reshaped = list(zip(*xy_list))\n",
    "    x = list( xy_list_reshaped[0] )\n",
    "    y = list( xy_list_reshaped[1] )\n",
    "    basename_list = [ os.path.basename(i) for i in file_list ]\n",
    "    idx = list( range(1, len(basename_list)+1 ) )\n",
    "    \n",
    "    df = pd.DataFrame( {'file_name': basename_list,\n",
    "                        'file_id': idx,\n",
    "                        'x': x,\n",
    "                        'y': y\n",
    "                       } )\n",
    "    return df\n"
   ]
  },
  {
   "cell_type": "code",
   "execution_count": 13,
   "id": "b27f7f17-0869-41c4-b898-98b579890b6a",
   "metadata": {},
   "outputs": [],
   "source": [
    "# Dataset info\n",
    "\n",
    "dataset_prefix = '170902-Col4a1-TAMRA'\n",
    "\n",
    "parent_folder = os.path.join('..', 'data', 'Fig1-ECM-mRNA-apical-polarization',\n",
    "                             '_smFISH-for-polarity-quantification-curated')\n",
    "\n",
    "# parent_folder = os.path.join('..', 'data', 'Fig1-ECM-mRNA-apical-polarization',\n",
    "#                              '_smFISH-for-polarity-quantification')\n",
    "\n",
    "image_folder = os.path.join(parent_folder, dataset_prefix)\n",
    "\n",
    "info_folder = os.path.join(parent_folder, dataset_prefix + '-output')"
   ]
  },
  {
   "cell_type": "code",
   "execution_count": 14,
   "id": "989cc5e4-4f34-477c-9f7f-cf0efe52c49f",
   "metadata": {},
   "outputs": [
    {
     "data": {
      "text/html": [
       "<div>\n",
       "<style scoped>\n",
       "    .dataframe tbody tr th:only-of-type {\n",
       "        vertical-align: middle;\n",
       "    }\n",
       "\n",
       "    .dataframe tbody tr th {\n",
       "        vertical-align: top;\n",
       "    }\n",
       "\n",
       "    .dataframe thead th {\n",
       "        text-align: right;\n",
       "    }\n",
       "</style>\n",
       "<table border=\"1\" class=\"dataframe\">\n",
       "  <thead>\n",
       "    <tr style=\"text-align: right;\">\n",
       "      <th></th>\n",
       "      <th>file_name</th>\n",
       "      <th>file_id</th>\n",
       "      <th>x</th>\n",
       "      <th>y</th>\n",
       "    </tr>\n",
       "  </thead>\n",
       "  <tbody>\n",
       "    <tr>\n",
       "      <th>0</th>\n",
       "      <td>20170902 Col4a1 smFISH 001-info.txt</td>\n",
       "      <td>1</td>\n",
       "      <td>13322.5</td>\n",
       "      <td>-4889.7</td>\n",
       "    </tr>\n",
       "    <tr>\n",
       "      <th>1</th>\n",
       "      <td>20170902 Col4a1 smFISH 002-info.txt</td>\n",
       "      <td>2</td>\n",
       "      <td>13152.7</td>\n",
       "      <td>-5002.5</td>\n",
       "    </tr>\n",
       "    <tr>\n",
       "      <th>2</th>\n",
       "      <td>20170902 Col4a1 smFISH 003-info.txt</td>\n",
       "      <td>3</td>\n",
       "      <td>13331.6</td>\n",
       "      <td>-4998.0</td>\n",
       "    </tr>\n",
       "    <tr>\n",
       "      <th>3</th>\n",
       "      <td>20170902 Col4a1 smFISH 004-info.txt</td>\n",
       "      <td>4</td>\n",
       "      <td>8847.9</td>\n",
       "      <td>-2294.9</td>\n",
       "    </tr>\n",
       "    <tr>\n",
       "      <th>4</th>\n",
       "      <td>20170902 Col4a1 smFISH 005-info.txt</td>\n",
       "      <td>5</td>\n",
       "      <td>8790.9</td>\n",
       "      <td>-2411.9</td>\n",
       "    </tr>\n",
       "  </tbody>\n",
       "</table>\n",
       "</div>"
      ],
      "text/plain": [
       "                             file_name  file_id        x       y\n",
       "0  20170902 Col4a1 smFISH 001-info.txt        1  13322.5 -4889.7\n",
       "1  20170902 Col4a1 smFISH 002-info.txt        2  13152.7 -5002.5\n",
       "2  20170902 Col4a1 smFISH 003-info.txt        3  13331.6 -4998.0\n",
       "3  20170902 Col4a1 smFISH 004-info.txt        4   8847.9 -2294.9\n",
       "4  20170902 Col4a1 smFISH 005-info.txt        5   8790.9 -2411.9"
      ]
     },
     "execution_count": 14,
     "metadata": {},
     "output_type": "execute_result"
    }
   ],
   "source": [
    "# Extracting x,y position list from the metadata text files\n",
    "\n",
    "df = get_xy_df(info_folder)\n",
    "df.head()"
   ]
  },
  {
   "cell_type": "code",
   "execution_count": 15,
   "id": "2ac8d578-0dbb-44db-a76e-d3a059966c08",
   "metadata": {},
   "outputs": [
    {
     "data": {
      "image/png": "[encoded data removed]",
      "text/plain": [
       "<Figure size 432x288 with 1 Axes>"
      ]
     },
     "metadata": {
      "needs_background": "light"
     },
     "output_type": "display_data"
    }
   ],
   "source": [
    "# Plot the coordinates to get a quick look of which images belong to the same glands\n",
    "\n",
    "fig, ax = plt.subplots()\n",
    "\n",
    "# plot the points\n",
    "ax.scatter(df.x, df.y, alpha=0)\n",
    "\n",
    "for i, txt in enumerate( df.file_id.tolist() ):\n",
    "    ax.annotate(str(txt), (df.x[i], df.y[i]), size='xx-large')\n",
    "\n",
    "plt.savefig( os.path.join(info_folder, dataset_prefix + '-xy-pos.png') )"
   ]
  },
  {
   "cell_type": "code",
   "execution_count": 16,
   "id": "1b5ed8cd-a18c-4287-9e0a-4bba978f0b0f",
   "metadata": {},
   "outputs": [
    {
     "data": {
      "text/plain": [
       "203.85259380248218"
      ]
     },
     "execution_count": 16,
     "metadata": {},
     "output_type": "execute_result"
    }
   ],
   "source": [
    "x1, x2 = df.x[0], df.x[1]\n",
    "y1, y2 = df.y[0], df.y[1]\n",
    "distance = ( (x1-x2)**2 + (y1-y2)**2 ) ** .5\n",
    "distance"
   ]
  },
  {
   "cell_type": "code",
   "execution_count": 17,
   "id": "f731c7e3-eddb-4d1d-a186-5e59f6f49a0a",
   "metadata": {},
   "outputs": [],
   "source": [
    "# annotate cluster sizes based on the plot above\n",
    "# cluster_sizes = [3, 4, 4, 2]\n",
    "# cluster_sizes = [4, 4, 8, 6]\n",
    "cluster_sizes = [3, 2, 3, 1, 1, 3, 3]\n",
    "# cluster_sizes = [2]\n",
    "\n",
    "# check whether annotation of cluster sizes is valid\n",
    "assert sum(cluster_sizes) == len(df)\n"
   ]
  },
  {
   "cell_type": "code",
   "execution_count": 18,
   "id": "7511e58f-c52e-442b-87d8-e56384c8881d",
   "metadata": {},
   "outputs": [
    {
     "data": {
      "text/plain": [
       "['SMG 1-1',\n",
       " 'SMG 1-2',\n",
       " 'SMG 1-3',\n",
       " 'SMG 2-1',\n",
       " 'SMG 2-2',\n",
       " 'SMG 3-1',\n",
       " 'SMG 3-2',\n",
       " 'SMG 3-3',\n",
       " 'SMG 4-1',\n",
       " 'SMG 5-1',\n",
       " 'SMG 6-1',\n",
       " 'SMG 6-2',\n",
       " 'SMG 6-3',\n",
       " 'SMG 7-1',\n",
       " 'SMG 7-2',\n",
       " 'SMG 7-3']"
      ]
     },
     "execution_count": 18,
     "metadata": {},
     "output_type": "execute_result"
    }
   ],
   "source": [
    "# Annotate the SMG id and field id using cluster sizes\n",
    "\n",
    "SMG_id = []\n",
    "field_id = []\n",
    "for i in range(len(cluster_sizes)):\n",
    "    for j in range(cluster_sizes[i]):\n",
    "        SMG_id.append(i+1)\n",
    "        field_id.append(j+1)\n",
    "\n",
    "image_id = ['SMG '+str(SMG_id[i])+'-'+str(field_id[i]) for i in range(len(df))]\n",
    "image_id"
   ]
  },
  {
   "cell_type": "code",
   "execution_count": 9,
   "id": "dbf4475e-ba63-4b2f-b2e0-b84c5bc66025",
   "metadata": {},
   "outputs": [],
   "source": [
    "# # Rename the image file names by prefixing with SMG id info\n",
    "\n",
    "# image_file_name = [ i[:-9] + '.nd2' for i in df.file_name ]\n",
    "# new_image_file_name = [ image_id[i] + ' ' + image_file_name[i] for i in range(len(df))]\n",
    "\n",
    "# for i in range(len(df)):\n",
    "#     old_f_name = os.path.join(image_folder, image_file_name[i])\n",
    "#     new_f_name = os.path.join(image_folder, new_image_file_name[i])\n",
    "#     os.rename(old_f_name, new_f_name)"
   ]
  },
  {
   "cell_type": "code",
   "execution_count": null,
   "id": "5f105d4e-901e-4ee7-a2cd-7dfdd8fd5ea0",
   "metadata": {},
   "outputs": [],
   "source": []
  }
 ],
 "metadata": {
  "kernelspec": {
   "display_name": "Python 3",
   "language": "python",
   "name": "python3"
  },
  "language_info": {
   "codemirror_mode": {
    "name": "ipython",
    "version": 3
   },
   "file_extension": ".py",
   "mimetype": "text/x-python",
   "name": "python",
   "nbconvert_exporter": "python",
   "pygments_lexer": "ipython3",
   "version": "3.7.6"
  }
 },
 "nbformat": 4,
 "nbformat_minor": 5
}
