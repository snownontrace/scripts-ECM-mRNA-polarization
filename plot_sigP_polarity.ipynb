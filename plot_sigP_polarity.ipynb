{
 "cells": [
  {
   "cell_type": "code",
   "execution_count": 1,
   "metadata": {
    "tags": []
   },
   "outputs": [],
   "source": [
    "import sys, os, glob, warnings, logging\n",
    "import numpy as np\n",
    "import pandas as pd\n",
    "import matplotlib\n",
    "import matplotlib.pyplot as plt\n",
    "import seaborn as sns\n",
    "from scipy import stats\n",
    "from sw_plotting import change_bar_width\n",
    "from sw_utilities import tukeyTest\n",
    "\n",
    "logging.basicConfig(stream=sys.stdout, format='%(asctime)s - %(levelname)s - %(message)s', level=logging.ERROR)\n",
    "# logging.basicConfig(stream=sys.stdout, format='%(asctime)s - %(levelname)s - %(message)s', level=logging.INFO)\n",
    "# logging.basicConfig(stream=sys.stdout, format='%(asctime)s - %(levelname)s - %(message)s', level=logging.DEBUG)\n",
    "\n",
    "# ignore warnings\n",
    "warnings.filterwarnings('ignore')\n",
    "\n",
    "# plotting configuration\n",
    "font = {'family' : 'Arial',\n",
    "        'size'   : 8}\n",
    "matplotlib.rc('font', **font)\n",
    "plt.rcParams['svg.fonttype'] = 'none'\n",
    "\n",
    "# Make a folder if it is not already there to store exported figures\n",
    "!mkdir ../jupyter_figures\n"
   ]
  },
  {
   "cell_type": "code",
   "execution_count": 2,
   "metadata": {
    "tags": []
   },
   "outputs": [
    {
     "data": {
      "text/html": [
       "<div>\n",
       "<style scoped>\n",
       "    .dataframe tbody tr th:only-of-type {\n",
       "        vertical-align: middle;\n",
       "    }\n",
       "\n",
       "    .dataframe tbody tr th {\n",
       "        vertical-align: top;\n",
       "    }\n",
       "\n",
       "    .dataframe thead th {\n",
       "        text-align: right;\n",
       "    }\n",
       "</style>\n",
       "<table border=\"1\" class=\"dataframe\">\n",
       "  <thead>\n",
       "    <tr style=\"text-align: right;\">\n",
       "      <th></th>\n",
       "      <th>file_name</th>\n",
       "      <th>apical_dot_number</th>\n",
       "      <th>apical_area</th>\n",
       "      <th>basal_dot_number</th>\n",
       "      <th>basal_area</th>\n",
       "    </tr>\n",
       "  </thead>\n",
       "  <tbody>\n",
       "    <tr>\n",
       "      <th>0</th>\n",
       "      <td>LV-367-s01-001</td>\n",
       "      <td>47</td>\n",
       "      <td>79.8426</td>\n",
       "      <td>70</td>\n",
       "      <td>68.5420</td>\n",
       "    </tr>\n",
       "    <tr>\n",
       "      <th>1</th>\n",
       "      <td>LV-367-s01-002</td>\n",
       "      <td>46</td>\n",
       "      <td>62.0511</td>\n",
       "      <td>50</td>\n",
       "      <td>81.7761</td>\n",
       "    </tr>\n",
       "    <tr>\n",
       "      <th>2</th>\n",
       "      <td>LV-367-s01-003</td>\n",
       "      <td>20</td>\n",
       "      <td>30.3831</td>\n",
       "      <td>84</td>\n",
       "      <td>85.0426</td>\n",
       "    </tr>\n",
       "    <tr>\n",
       "      <th>3</th>\n",
       "      <td>LV-367-s01-004</td>\n",
       "      <td>31</td>\n",
       "      <td>42.3622</td>\n",
       "      <td>49</td>\n",
       "      <td>107.1514</td>\n",
       "    </tr>\n",
       "    <tr>\n",
       "      <th>4</th>\n",
       "      <td>LV-367-s01-005</td>\n",
       "      <td>71</td>\n",
       "      <td>76.5521</td>\n",
       "      <td>68</td>\n",
       "      <td>90.4046</td>\n",
       "    </tr>\n",
       "  </tbody>\n",
       "</table>\n",
       "</div>"
      ],
      "text/plain": [
       "        file_name  apical_dot_number  apical_area  basal_dot_number  \\\n",
       "0  LV-367-s01-001                 47      79.8426                70   \n",
       "1  LV-367-s01-002                 46      62.0511                50   \n",
       "2  LV-367-s01-003                 20      30.3831                84   \n",
       "3  LV-367-s01-004                 31      42.3622                49   \n",
       "4  LV-367-s01-005                 71      76.5521                68   \n",
       "\n",
       "   basal_area  \n",
       "0     68.5420  \n",
       "1     81.7761  \n",
       "2     85.0426  \n",
       "3    107.1514  \n",
       "4     90.4046  "
      ]
     },
     "execution_count": 2,
     "metadata": {},
     "output_type": "execute_result"
    }
   ],
   "source": [
    "# Read in data\n",
    "df = pd.read_csv('../data/Fig3-ER-mRNA-tethering/211028-LV367-368-369-370-smFISH-Nikon-40xWI-rotated-cropped-output/211028-LV367-368-369-370-smFISH-Nikon-40xWI-rotated-cropped_apical_basal_ROI_dot_count_area.txt', sep='\\t')\n",
    "df.head()\n"
   ]
  },
  {
   "cell_type": "code",
   "execution_count": 3,
   "metadata": {
    "tags": []
   },
   "outputs": [],
   "source": [
    "# compute dot density and the polarity index\n",
    "df['apical_density'] = df.apical_dot_number * 100 / df.apical_area # dot number per 100 um2\n",
    "df['basal_density'] = df.basal_dot_number * 100 / df.basal_area # dot number per 100 um2\n",
    "df['polarity_index'] = (df.apical_density - df.basal_density) / (df.apical_density + df.basal_density)\n",
    "# df['area_ratio'] = df.apical_area / df.basal_area\n",
    "# df['density_ratio'] = df.apical_density / df.basal_density\n",
    "# df['count_ratio'] = df.apical_dot_number / df.basal_dot_number"
   ]
  },
  {
   "cell_type": "code",
   "execution_count": 4,
   "metadata": {
    "tags": []
   },
   "outputs": [
    {
     "data": {
      "text/html": [
       "<div>\n",
       "<style scoped>\n",
       "    .dataframe tbody tr th:only-of-type {\n",
       "        vertical-align: middle;\n",
       "    }\n",
       "\n",
       "    .dataframe tbody tr th {\n",
       "        vertical-align: top;\n",
       "    }\n",
       "\n",
       "    .dataframe thead th {\n",
       "        text-align: right;\n",
       "    }\n",
       "</style>\n",
       "<table border=\"1\" class=\"dataframe\">\n",
       "  <thead>\n",
       "    <tr style=\"text-align: right;\">\n",
       "      <th></th>\n",
       "      <th>file_name</th>\n",
       "      <th>apical_dot_number</th>\n",
       "      <th>apical_area</th>\n",
       "      <th>basal_dot_number</th>\n",
       "      <th>basal_area</th>\n",
       "      <th>apical_density</th>\n",
       "      <th>basal_density</th>\n",
       "      <th>polarity_index</th>\n",
       "      <th>LV_id</th>\n",
       "      <th>organoid_id</th>\n",
       "      <th>LV_organoid_id</th>\n",
       "      <th>cell_id</th>\n",
       "    </tr>\n",
       "  </thead>\n",
       "  <tbody>\n",
       "    <tr>\n",
       "      <th>0</th>\n",
       "      <td>LV-367-s01-001</td>\n",
       "      <td>47</td>\n",
       "      <td>79.8426</td>\n",
       "      <td>70</td>\n",
       "      <td>68.5420</td>\n",
       "      <td>58.865818</td>\n",
       "      <td>102.127163</td>\n",
       "      <td>-0.268716</td>\n",
       "      <td>367</td>\n",
       "      <td>01</td>\n",
       "      <td>367_01</td>\n",
       "      <td>001</td>\n",
       "    </tr>\n",
       "    <tr>\n",
       "      <th>1</th>\n",
       "      <td>LV-367-s01-002</td>\n",
       "      <td>46</td>\n",
       "      <td>62.0511</td>\n",
       "      <td>50</td>\n",
       "      <td>81.7761</td>\n",
       "      <td>74.132449</td>\n",
       "      <td>61.142559</td>\n",
       "      <td>0.096026</td>\n",
       "      <td>367</td>\n",
       "      <td>01</td>\n",
       "      <td>367_01</td>\n",
       "      <td>002</td>\n",
       "    </tr>\n",
       "    <tr>\n",
       "      <th>2</th>\n",
       "      <td>LV-367-s01-003</td>\n",
       "      <td>20</td>\n",
       "      <td>30.3831</td>\n",
       "      <td>84</td>\n",
       "      <td>85.0426</td>\n",
       "      <td>65.826068</td>\n",
       "      <td>98.774026</td>\n",
       "      <td>-0.200170</td>\n",
       "      <td>367</td>\n",
       "      <td>01</td>\n",
       "      <td>367_01</td>\n",
       "      <td>003</td>\n",
       "    </tr>\n",
       "    <tr>\n",
       "      <th>3</th>\n",
       "      <td>LV-367-s01-004</td>\n",
       "      <td>31</td>\n",
       "      <td>42.3622</td>\n",
       "      <td>49</td>\n",
       "      <td>107.1514</td>\n",
       "      <td>73.178447</td>\n",
       "      <td>45.729687</td>\n",
       "      <td>0.230840</td>\n",
       "      <td>367</td>\n",
       "      <td>01</td>\n",
       "      <td>367_01</td>\n",
       "      <td>004</td>\n",
       "    </tr>\n",
       "    <tr>\n",
       "      <th>4</th>\n",
       "      <td>LV-367-s01-005</td>\n",
       "      <td>71</td>\n",
       "      <td>76.5521</td>\n",
       "      <td>68</td>\n",
       "      <td>90.4046</td>\n",
       "      <td>92.747292</td>\n",
       "      <td>75.217412</td>\n",
       "      <td>0.104366</td>\n",
       "      <td>367</td>\n",
       "      <td>01</td>\n",
       "      <td>367_01</td>\n",
       "      <td>005</td>\n",
       "    </tr>\n",
       "  </tbody>\n",
       "</table>\n",
       "</div>"
      ],
      "text/plain": [
       "        file_name  apical_dot_number  apical_area  basal_dot_number  \\\n",
       "0  LV-367-s01-001                 47      79.8426                70   \n",
       "1  LV-367-s01-002                 46      62.0511                50   \n",
       "2  LV-367-s01-003                 20      30.3831                84   \n",
       "3  LV-367-s01-004                 31      42.3622                49   \n",
       "4  LV-367-s01-005                 71      76.5521                68   \n",
       "\n",
       "   basal_area  apical_density  basal_density  polarity_index LV_id  \\\n",
       "0     68.5420       58.865818     102.127163       -0.268716   367   \n",
       "1     81.7761       74.132449      61.142559        0.096026   367   \n",
       "2     85.0426       65.826068      98.774026       -0.200170   367   \n",
       "3    107.1514       73.178447      45.729687        0.230840   367   \n",
       "4     90.4046       92.747292      75.217412        0.104366   367   \n",
       "\n",
       "  organoid_id LV_organoid_id cell_id  \n",
       "0          01         367_01     001  \n",
       "1          01         367_01     002  \n",
       "2          01         367_01     003  \n",
       "3          01         367_01     004  \n",
       "4          01         367_01     005  "
      ]
     },
     "execution_count": 4,
     "metadata": {},
     "output_type": "execute_result"
    }
   ],
   "source": [
    "# annotate the data\n",
    "LV_id, organoid_id, LV_organoid_id, cell_id = [], [], [], []\n",
    "for i in range(len(df)):\n",
    "    f = df.file_name[i]\n",
    "    LV_id.append( f.split('-')[1] )\n",
    "    organoid_id.append( f.split('-')[2][1:] )\n",
    "    LV_organoid_id.append( f.split('-')[1] + '_' + f.split('-')[2][1:] )\n",
    "    cell_id.append( f.split('-')[3] )\n",
    "\n",
    "df['LV_id'] = LV_id\n",
    "df['organoid_id'] = organoid_id\n",
    "df['LV_organoid_id'] = LV_organoid_id\n",
    "df['cell_id'] = cell_id\n",
    "\n",
    "df.head()\n"
   ]
  },
  {
   "cell_type": "code",
   "execution_count": 5,
   "metadata": {
    "tags": []
   },
   "outputs": [],
   "source": [
    "df_orgnoids = df.groupby('LV_organoid_id').mean()"
   ]
  },
  {
   "cell_type": "code",
   "execution_count": 6,
   "metadata": {
    "tags": []
   },
   "outputs": [
    {
     "data": {
      "text/html": [
       "<div>\n",
       "<style scoped>\n",
       "    .dataframe tbody tr th:only-of-type {\n",
       "        vertical-align: middle;\n",
       "    }\n",
       "\n",
       "    .dataframe tbody tr th {\n",
       "        vertical-align: top;\n",
       "    }\n",
       "\n",
       "    .dataframe thead th {\n",
       "        text-align: right;\n",
       "    }\n",
       "</style>\n",
       "<table border=\"1\" class=\"dataframe\">\n",
       "  <thead>\n",
       "    <tr style=\"text-align: right;\">\n",
       "      <th></th>\n",
       "      <th>LV_organoid_id</th>\n",
       "      <th>apical_dot_number</th>\n",
       "      <th>apical_area</th>\n",
       "      <th>basal_dot_number</th>\n",
       "      <th>basal_area</th>\n",
       "      <th>apical_density</th>\n",
       "      <th>basal_density</th>\n",
       "      <th>polarity_index</th>\n",
       "      <th>LV_id</th>\n",
       "      <th>organoid_id</th>\n",
       "    </tr>\n",
       "  </thead>\n",
       "  <tbody>\n",
       "    <tr>\n",
       "      <th>0</th>\n",
       "      <td>367_01</td>\n",
       "      <td>43.000000</td>\n",
       "      <td>58.238220</td>\n",
       "      <td>64.200000</td>\n",
       "      <td>86.583340</td>\n",
       "      <td>72.950015</td>\n",
       "      <td>76.598169</td>\n",
       "      <td>-0.007531</td>\n",
       "      <td>367</td>\n",
       "      <td>01</td>\n",
       "    </tr>\n",
       "    <tr>\n",
       "      <th>1</th>\n",
       "      <td>367_02</td>\n",
       "      <td>43.833333</td>\n",
       "      <td>49.990967</td>\n",
       "      <td>57.000000</td>\n",
       "      <td>67.397183</td>\n",
       "      <td>103.320246</td>\n",
       "      <td>83.222408</td>\n",
       "      <td>0.062639</td>\n",
       "      <td>367</td>\n",
       "      <td>02</td>\n",
       "    </tr>\n",
       "    <tr>\n",
       "      <th>2</th>\n",
       "      <td>367_03</td>\n",
       "      <td>35.000000</td>\n",
       "      <td>44.061467</td>\n",
       "      <td>54.333333</td>\n",
       "      <td>67.251067</td>\n",
       "      <td>75.434222</td>\n",
       "      <td>82.630105</td>\n",
       "      <td>-0.037596</td>\n",
       "      <td>367</td>\n",
       "      <td>03</td>\n",
       "    </tr>\n",
       "    <tr>\n",
       "      <th>3</th>\n",
       "      <td>367_04</td>\n",
       "      <td>40.666667</td>\n",
       "      <td>46.529333</td>\n",
       "      <td>78.333333</td>\n",
       "      <td>65.521767</td>\n",
       "      <td>88.848772</td>\n",
       "      <td>131.844962</td>\n",
       "      <td>-0.175885</td>\n",
       "      <td>367</td>\n",
       "      <td>04</td>\n",
       "    </tr>\n",
       "    <tr>\n",
       "      <th>4</th>\n",
       "      <td>367_05</td>\n",
       "      <td>58.333333</td>\n",
       "      <td>42.870567</td>\n",
       "      <td>81.333333</td>\n",
       "      <td>68.143733</td>\n",
       "      <td>135.807530</td>\n",
       "      <td>119.165298</td>\n",
       "      <td>0.065431</td>\n",
       "      <td>367</td>\n",
       "      <td>05</td>\n",
       "    </tr>\n",
       "  </tbody>\n",
       "</table>\n",
       "</div>"
      ],
      "text/plain": [
       "  LV_organoid_id  apical_dot_number  apical_area  basal_dot_number  \\\n",
       "0         367_01          43.000000    58.238220         64.200000   \n",
       "1         367_02          43.833333    49.990967         57.000000   \n",
       "2         367_03          35.000000    44.061467         54.333333   \n",
       "3         367_04          40.666667    46.529333         78.333333   \n",
       "4         367_05          58.333333    42.870567         81.333333   \n",
       "\n",
       "   basal_area  apical_density  basal_density  polarity_index LV_id organoid_id  \n",
       "0   86.583340       72.950015      76.598169       -0.007531   367          01  \n",
       "1   67.397183      103.320246      83.222408        0.062639   367          02  \n",
       "2   67.251067       75.434222      82.630105       -0.037596   367          03  \n",
       "3   65.521767       88.848772     131.844962       -0.175885   367          04  \n",
       "4   68.143733      135.807530     119.165298        0.065431   367          05  "
      ]
     },
     "execution_count": 6,
     "metadata": {},
     "output_type": "execute_result"
    }
   ],
   "source": [
    "df_orgnoids.reset_index(inplace=True)\n",
    "df_orgnoids['LV_id'] = [i[:3] for i in df_orgnoids.LV_organoid_id]\n",
    "df_orgnoids['organoid_id'] = [i[-2:] for i in df_orgnoids.LV_organoid_id]\n",
    "df_orgnoids.head()"
   ]
  },
  {
   "cell_type": "code",
   "execution_count": 7,
   "metadata": {
    "tags": []
   },
   "outputs": [
    {
     "name": "stdout",
     "output_type": "stream",
     "text": [
      "Summary of test:\n",
      " Multiple Comparison of Means - Tukey HSD, FWER=0.05\n",
      "===================================================\n",
      "group1 group2 meandiff p-adj   lower  upper  reject\n",
      "---------------------------------------------------\n",
      "   367    368   0.2891    0.0   0.169 0.4093   True\n",
      "   367    369   0.3879    0.0  0.2678 0.5081   True\n",
      "   367    370   0.3438    0.0  0.2236 0.4639   True\n",
      "   368    369   0.0988 0.1312 -0.0213 0.2189  False\n",
      "   368    370   0.0547 0.5896 -0.0655 0.1748  False\n",
      "   369    370  -0.0441 0.7351 -0.1643  0.076  False\n",
      "---------------------------------------------------\n",
      "p values of all pair-wise tests:\n",
      " [0.001      0.001      0.001      0.13106974 0.58192307 0.71550236]\n"
     ]
    },
    {
     "data": {
      "text/plain": [
       "<statsmodels.sandbox.stats.multicomp.TukeyHSDResults at 0x15cabd290>"
      ]
     },
     "execution_count": 7,
     "metadata": {},
     "output_type": "execute_result"
    }
   ],
   "source": [
    "tukeyTest(df_orgnoids.polarity_index, df_orgnoids.LV_id)"
   ]
  },
  {
   "cell_type": "code",
   "execution_count": 8,
   "metadata": {
    "tags": []
   },
   "outputs": [
    {
     "data": {
      "text/plain": [
       "<Axes: xlabel='LV_id', ylabel='polarity_index'>"
      ]
     },
     "execution_count": 8,
     "metadata": {},
     "output_type": "execute_result"
    },
    {
     "data": {
      "image/png": "[encoded data removed]",
      "text/plain": [
       "<Figure size 640x480 with 1 Axes>"
      ]
     },
     "metadata": {},
     "output_type": "display_data"
    }
   ],
   "source": [
    "sns.swarmplot(data = df, x='LV_id', y='polarity_index', hue='organoid_id')"
   ]
  },
  {
   "cell_type": "code",
   "execution_count": 9,
   "metadata": {
    "tags": []
   },
   "outputs": [
    {
     "data": {
      "text/plain": [
       "<Axes: xlabel='LV_id', ylabel='polarity_index'>"
      ]
     },
     "execution_count": 9,
     "metadata": {},
     "output_type": "execute_result"
    },
    {
     "data": {
      "image/png": "[encoded data removed]",
      "text/plain": [
       "<Figure size 640x480 with 1 Axes>"
      ]
     },
     "metadata": {},
     "output_type": "display_data"
    }
   ],
   "source": [
    "sns.swarmplot(data = df_orgnoids, x='LV_id', y='polarity_index', hue='organoid_id')"
   ]
  },
  {
   "cell_type": "code",
   "execution_count": 20,
   "metadata": {
    "tags": []
   },
   "outputs": [
    {
     "data": {
      "image/png": "[encoded data removed]",
      "text/plain": [
       "<Figure size 300x270 with 1 Axes>"
      ]
     },
     "metadata": {},
     "output_type": "display_data"
    }
   ],
   "source": [
    "# Swarm plot of 4 categories\n",
    "\n",
    "outputPrefix = '211028-LV367-368-369-370-smFISH-Nikon-40xWI-polarity-index-swarm'\n",
    "outputFigPath = \"../jupyter_figures/\" + outputPrefix + \".svg\"\n",
    "\n",
    "fig_width=1.0\n",
    "fig_height=0.9\n",
    "fig = plt.figure(figsize=(fig_width,fig_height), dpi=300)\n",
    "ax = fig.add_axes([0.1, 0.1, 0.8, 0.8])\n",
    "\n",
    "ax = sns.swarmplot(x='LV_id', y='polarity_index', data=df_orgnoids,\n",
    "#                    hue='organoid_id',\n",
    "                   color=\"Gray\",\n",
    "                   size=2)\n",
    "\n",
    "# ax = sns.barplot(x='LV_id', y='polarity_index', data=df_orgnoids,\n",
    "#                  color=\".7\", alpha=1.0,\n",
    "#                  errwidth=.7, errcolor=\"k\", capsize=.2, ci='sd')\n",
    "# # make the bar width narrower\n",
    "# change_bar_width(ax, .5)\n",
    "\n",
    "ax = sns.pointplot(x='LV_id', y='polarity_index', data=df_orgnoids,\n",
    "                   ci='sd', capsize=.2, errwidth=.7,\n",
    "                   markers='_', scale=.5, join=False, color=\"Black\")\n",
    "\n",
    "plt.ylim(-0.25, 0.8)\n",
    "plt.yticks([0, 0.3, 0.6])\n",
    "\n",
    "plt.xlabel(None)\n",
    "plt.ylabel(\"Polarity index\")\n",
    "\n",
    "# rotate x tick labels\n",
    "x_labels = ['No sigP', 'Col4a1 sigP', 'Col4a2 sigP', 'Ins2 sigP']\n",
    "# x_labels = ax.get_xticklabels()\n",
    "ax.set_xticklabels(labels=x_labels, rotation=45, ha=\"right\")\n",
    "\n",
    "# # Remove legend (symbols representing orgnoids)\n",
    "# ax.get_legend().remove()\n",
    "\n",
    "for o in fig.findobj():\n",
    "    o.set_clip_on(False)\n",
    "for o in ax.findobj():\n",
    "    o.set_clip_on(False)\n",
    "\n",
    "if outputFigPath is not None:\n",
    "    plt.savefig(outputFigPath)\n"
   ]
  },
  {
   "cell_type": "code",
   "execution_count": null,
   "metadata": {},
   "outputs": [],
   "source": []
  }
 ],
 "metadata": {
  "kernelspec": {
   "display_name": "Python 3 (ipykernel)",
   "language": "python",
   "name": "python3"
  },
  "language_info": {
   "codemirror_mode": {
    "name": "ipython",
    "version": 3
   },
   "file_extension": ".py",
   "mimetype": "text/x-python",
   "name": "python",
   "nbconvert_exporter": "python",
   "pygments_lexer": "ipython3",
   "version": "3.11.0"
  }
 },
 "nbformat": 4,
 "nbformat_minor": 4
}
