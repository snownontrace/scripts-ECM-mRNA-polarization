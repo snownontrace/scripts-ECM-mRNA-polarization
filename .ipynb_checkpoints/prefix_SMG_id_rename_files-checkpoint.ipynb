{
 "cells": [
  {
   "cell_type": "code",
   "execution_count": 1,
   "id": "41750e56-e97d-4ca6-b24b-ae59ad3c472b",
   "metadata": {},
   "outputs": [
    {
     "name": "stdout",
     "output_type": "stream",
     "text": [
      "mkdir: ../jupyter_figures: File exists\n"
     ]
    }
   ],
   "source": [
    "import sys, os, glob, warnings, logging, re\n",
    "# import numpy as np\n",
    "\n",
    "logging.basicConfig(stream=sys.stdout, format='%(asctime)s - %(levelname)s - %(message)s', level=logging.ERROR)\n",
    "\n",
    "# ignore warnings\n",
    "warnings.filterwarnings('ignore')\n",
    "\n",
    "# Make a folder if it is not already there to store exported figures\n",
    "!mkdir ../jupyter_figures\n"
   ]
  },
  {
   "cell_type": "code",
   "execution_count": 5,
   "id": "073914e4-fa13-46a6-b830-40b0e7e7d778",
   "metadata": {},
   "outputs": [],
   "source": [
    "# Dataset info\n",
    "\n",
    "dataset_prefix = '171024-Lamc1-TMR-smFISH'\n",
    "\n",
    "parent_folder = os.path.join('..', 'data', 'Fig1-ECM-mRNA-apical-polarization',\n",
    "                             '_smFISH-for-polarity-quantification-curated')\n",
    "\n",
    "image_folder = os.path.join(parent_folder, dataset_prefix)"
   ]
  },
  {
   "cell_type": "code",
   "execution_count": 6,
   "id": "054586e8-6712-4e8d-8719-2d580426243d",
   "metadata": {},
   "outputs": [],
   "source": [
    "file_list = glob.glob(image_folder + os.path.sep + '*.tif')\n",
    "# file_list = glob.glob(image_folder + os.path.sep + '*.nd2')\n",
    "file_list.sort()\n",
    "\n",
    "for f in file_list:\n",
    "    base_f = os.path.basename(f)\n",
    "    if not re.search(r'^SMG[\\s\\-_]?\\d+-\\d+|^smg[\\s\\-_]?\\d+-\\d+', base_f):\n",
    "        SMG_id = re.findall(r'SMG[\\s\\-_]?\\d+-\\d+|smg[\\s\\-_]?\\d+-\\d+', base_f)\n",
    "        assert len(SMG_id) == 1\n",
    "        new_f = os.path.join(image_folder, SMG_id[0] + ' ' + base_f)\n",
    "        # print(new_f)\n",
    "        os.rename(f, new_f)"
   ]
  },
  {
   "cell_type": "code",
   "execution_count": 9,
   "id": "c62ada86-da64-4e33-83ba-6d18cb51c60d",
   "metadata": {},
   "outputs": [],
   "source": [
    "# text = 'SMG 11-12 smg 3-5SMG|2-2SMG3-7'\n",
    "# # re.findall(r'SMG[\\s\\-_]?\\d+-\\d+|smg[\\s\\-_]?\\d+-\\d+', text)\n",
    "\n",
    "# if re.search(r'^SMG[\\s\\-_]?\\d+-\\d+|^smg[\\s\\-_]?\\d+-\\d+', text):\n",
    "#     print(\"yes!\")\n",
    "# else:\n",
    "#     print(\"no!\")\n",
    "\n",
    "# # m = re.search(r'^SMG[\\s\\-_]?\\d+-\\d+|^smg[\\s\\-_]?\\d+-\\d+', text)\n",
    "# # m.group(0)"
   ]
  },
  {
   "cell_type": "code",
   "execution_count": null,
   "id": "bcfefd6a-7ff3-420b-9b40-18c041f92682",
   "metadata": {},
   "outputs": [],
   "source": []
  }
 ],
 "metadata": {
  "kernelspec": {
   "display_name": "Python 3",
   "language": "python",
   "name": "python3"
  },
  "language_info": {
   "codemirror_mode": {
    "name": "ipython",
    "version": 3
   },
   "file_extension": ".py",
   "mimetype": "text/x-python",
   "name": "python",
   "nbconvert_exporter": "python",
   "pygments_lexer": "ipython3",
   "version": "3.7.6"
  }
 },
 "nbformat": 4,
 "nbformat_minor": 5
}
