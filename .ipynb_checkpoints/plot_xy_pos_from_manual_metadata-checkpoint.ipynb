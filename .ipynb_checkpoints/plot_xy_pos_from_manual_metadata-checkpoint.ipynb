{
 "cells": [
  {
   "cell_type": "code",
   "execution_count": 1,
   "id": "0caf8b10-aad9-4c9f-91ac-5f8a5f763453",
   "metadata": {},
   "outputs": [
    {
     "name": "stdout",
     "output_type": "stream",
     "text": [
      "mkdir: ../jupyter_figures: File exists\n"
     ]
    }
   ],
   "source": [
    "import sys, os, glob, warnings, logging\n",
    "import numpy as np\n",
    "import pandas as pd\n",
    "import matplotlib\n",
    "import matplotlib.pyplot as plt\n",
    "import seaborn as sns\n",
    "from scipy import stats\n",
    "from sw_plotting import change_bar_width\n",
    "from sw_utilities import tukeyTest\n",
    "\n",
    "logging.basicConfig(stream=sys.stdout, format='%(asctime)s - %(levelname)s - %(message)s', level=logging.ERROR)\n",
    "# logging.basicConfig(stream=sys.stdout, format='%(asctime)s - %(levelname)s - %(message)s', level=logging.INFO)\n",
    "# logging.basicConfig(stream=sys.stdout, format='%(asctime)s - %(levelname)s - %(message)s', level=logging.DEBUG)\n",
    "\n",
    "# ignore warnings\n",
    "warnings.filterwarnings('ignore')\n",
    "\n",
    "# plotting configuration\n",
    "font = {'family' : 'Arial',\n",
    "        'size'   : 7}\n",
    "matplotlib.rc('font', **font)\n",
    "plt.rcParams['svg.fonttype'] = 'none'\n",
    "\n",
    "# Make a folder if it is not already there to store exported figures\n",
    "!mkdir ../jupyter_figures\n"
   ]
  },
  {
   "cell_type": "code",
   "execution_count": 2,
   "id": "65d914ab-6f9a-425e-9291-1f47879d2230",
   "metadata": {},
   "outputs": [],
   "source": [
    "# Utility functions\n",
    "\n",
    "def get_xy_df(image_folder, x, y):\n",
    "    '''\n",
    "    Compose a data frame from manually input x,y positions from ND2 metadata\n",
    "    \n",
    "    Input:\n",
    "    ------\n",
    "        image_folder: Path to folder containing the metadata text files\n",
    "                      generated using the \"Show Info\" function in Fiji\n",
    "                      \n",
    "                x, y: Lists of numbers manually input from the ND2 metadata\n",
    "        \n",
    "    Output:\n",
    "    -------\n",
    "        A pandas data frame storing annotated (x, y) positions.\n",
    "    '''\n",
    "    file_list = glob.glob(image_folder + os.path.sep + '*.nd2')\n",
    "    file_list.sort()\n",
    "    \n",
    "    basename_list = [ os.path.basename(i) for i in file_list ]\n",
    "    idx = list( range(1, len(basename_list)+1 ) )\n",
    "    \n",
    "    df = pd.DataFrame( {'file_name': basename_list,\n",
    "                        'file_id': idx,\n",
    "                        'x': x,\n",
    "                        'y': y\n",
    "                       }\n",
    "                     )\n",
    "    return df\n"
   ]
  },
  {
   "cell_type": "code",
   "execution_count": 3,
   "id": "b27f7f17-0869-41c4-b898-98b579890b6a",
   "metadata": {},
   "outputs": [],
   "source": [
    "# Dataset info\n",
    "\n",
    "dataset_prefix = '170910-Col4a1-TAMRA'\n",
    "\n",
    "parent_folder = os.path.join('..', 'data', 'Fig1-ECM-mRNA-apical-polarization',\n",
    "                             '_smFISH-for-polarity-quantification-curated')\n",
    "\n",
    "image_folder = os.path.join(parent_folder, dataset_prefix)\n",
    "\n",
    "info_folder = os.path.join(parent_folder, dataset_prefix + '-output')\n",
    "\n",
    "if not os.path.exists(info_folder):\n",
    "    os.mkdir(info_folder)"
   ]
  },
  {
   "cell_type": "code",
   "execution_count": 4,
   "id": "8fb4ff1d-d884-4576-8b9a-650540ce7131",
   "metadata": {},
   "outputs": [],
   "source": [
    "# # Manual input of x,y from the metadata only accessible from the Nikon elements software\n",
    "\n",
    "# # dataset_prefix = '170824-Tfrc-Quasar570'\n",
    "\n",
    "# x = [4877.90,\n",
    "#      4969.30,\n",
    "#      5162.30,\n",
    "#      2092.90,\n",
    "#      2042.20,\n",
    "#      2266.20,\n",
    "#      2541.50,\n",
    "#      -799.40,\n",
    "#      -549.40,\n",
    "#      -652.40,\n",
    "#      -416.20,\n",
    "#      -595.00,\n",
    "#      -704.50,\n",
    "#      2787.80,\n",
    "#      2796.70,\n",
    "#     ]\n",
    "\n",
    "# y = [-931.90,\n",
    "#      -829.10,\n",
    "#      -725.60,\n",
    "#      -3496.90,\n",
    "#      -3334.20,\n",
    "#      -3150.40,\n",
    "#      -3411.30,\n",
    "#      -1120.40,\n",
    "#      -952.00,\n",
    "#      -1081.80,\n",
    "#      -1103.60,\n",
    "#      3059.00,\n",
    "#      3047.80,\n",
    "#      2589.00,\n",
    "#      2700.70,\n",
    "#     ]"
   ]
  },
  {
   "cell_type": "code",
   "execution_count": 5,
   "id": "441f4e8f-3629-4ad2-970c-e91dd69f7667",
   "metadata": {},
   "outputs": [],
   "source": [
    "# Manual input of x,y from the metadata only accessible from the Nikon elements software\n",
    "\n",
    "# dataset_prefix = '170910-Col4a1-TAMRA'\n",
    "\n",
    "x = [3810.80,\n",
    "     3631.50,\n",
    "     354.20,\n",
    "     495.70,\n",
    "     497.60,\n",
    "     -2055.90,\n",
    "     -2206.00,\n",
    "     -1107.90,\n",
    "     -1253.30,\n",
    "     2782.80,\n",
    "     3012.70,\n",
    "     5938.00,\n",
    "     6763.10,\n",
    "     3193.60,\n",
    "     3056.00,\n",
    "    ]\n",
    "\n",
    "y = [-5587.30,\n",
    "     -5428.50,\n",
    "     -5602.50,\n",
    "     -5635.30,\n",
    "     -5741.70,\n",
    "     -2378.10,\n",
    "     -2291.80,\n",
    "     1888.20,\n",
    "     1999.70,\n",
    "     4189.80,\n",
    "     4210.60,\n",
    "     1550.10,\n",
    "     -1960.90,\n",
    "     -1547.30,\n",
    "     -1532.50,\n",
    "    ]"
   ]
  },
  {
   "cell_type": "code",
   "execution_count": 6,
   "id": "989cc5e4-4f34-477c-9f7f-cf0efe52c49f",
   "metadata": {},
   "outputs": [
    {
     "data": {
      "text/html": [
       "<div>\n",
       "<style scoped>\n",
       "    .dataframe tbody tr th:only-of-type {\n",
       "        vertical-align: middle;\n",
       "    }\n",
       "\n",
       "    .dataframe tbody tr th {\n",
       "        vertical-align: top;\n",
       "    }\n",
       "\n",
       "    .dataframe thead th {\n",
       "        text-align: right;\n",
       "    }\n",
       "</style>\n",
       "<table border=\"1\" class=\"dataframe\">\n",
       "  <thead>\n",
       "    <tr style=\"text-align: right;\">\n",
       "      <th></th>\n",
       "      <th>file_name</th>\n",
       "      <th>file_id</th>\n",
       "      <th>x</th>\n",
       "      <th>y</th>\n",
       "    </tr>\n",
       "  </thead>\n",
       "  <tbody>\n",
       "    <tr>\n",
       "      <th>0</th>\n",
       "      <td>SMG 1-1 01.nd2</td>\n",
       "      <td>1</td>\n",
       "      <td>3810.8</td>\n",
       "      <td>-5587.3</td>\n",
       "    </tr>\n",
       "    <tr>\n",
       "      <th>1</th>\n",
       "      <td>SMG 1-2 02.nd2</td>\n",
       "      <td>2</td>\n",
       "      <td>3631.5</td>\n",
       "      <td>-5428.5</td>\n",
       "    </tr>\n",
       "    <tr>\n",
       "      <th>2</th>\n",
       "      <td>SMG 2-1 03.nd2</td>\n",
       "      <td>3</td>\n",
       "      <td>354.2</td>\n",
       "      <td>-5602.5</td>\n",
       "    </tr>\n",
       "    <tr>\n",
       "      <th>3</th>\n",
       "      <td>SMG 2-2 04.nd2</td>\n",
       "      <td>4</td>\n",
       "      <td>495.7</td>\n",
       "      <td>-5635.3</td>\n",
       "    </tr>\n",
       "    <tr>\n",
       "      <th>4</th>\n",
       "      <td>SMG 2-3 05.nd2</td>\n",
       "      <td>5</td>\n",
       "      <td>497.6</td>\n",
       "      <td>-5741.7</td>\n",
       "    </tr>\n",
       "  </tbody>\n",
       "</table>\n",
       "</div>"
      ],
      "text/plain": [
       "        file_name  file_id       x       y\n",
       "0  SMG 1-1 01.nd2        1  3810.8 -5587.3\n",
       "1  SMG 1-2 02.nd2        2  3631.5 -5428.5\n",
       "2  SMG 2-1 03.nd2        3   354.2 -5602.5\n",
       "3  SMG 2-2 04.nd2        4   495.7 -5635.3\n",
       "4  SMG 2-3 05.nd2        5   497.6 -5741.7"
      ]
     },
     "execution_count": 6,
     "metadata": {},
     "output_type": "execute_result"
    }
   ],
   "source": [
    "# Extracting x,y position list from the metadata text files\n",
    "\n",
    "df = get_xy_df(image_folder, x, y)\n",
    "df.head()"
   ]
  },
  {
   "cell_type": "code",
   "execution_count": 7,
   "id": "2ac8d578-0dbb-44db-a76e-d3a059966c08",
   "metadata": {},
   "outputs": [
    {
     "data": {
      "image/png": "[encoded data removed]",
      "text/plain": [
       "<Figure size 432x288 with 1 Axes>"
      ]
     },
     "metadata": {
      "needs_background": "light"
     },
     "output_type": "display_data"
    }
   ],
   "source": [
    "# Plot the coordinates to get a quick look of which images belong to the same glands\n",
    "\n",
    "fig, ax = plt.subplots()\n",
    "\n",
    "# plot the points\n",
    "ax.scatter(df.x, df.y, alpha=0)\n",
    "\n",
    "for i, txt in enumerate( df.file_id.tolist() ):\n",
    "    ax.annotate(str(txt), (df.x[i], df.y[i]), size='xx-large')\n",
    "\n",
    "plt.savefig( os.path.join(info_folder, dataset_prefix + '-xy-pos.png') )"
   ]
  },
  {
   "cell_type": "code",
   "execution_count": 8,
   "id": "f731c7e3-eddb-4d1d-a186-5e59f6f49a0a",
   "metadata": {},
   "outputs": [],
   "source": [
    "# annotate cluster sizes based on the plot above\n",
    "cluster_sizes = [2, 3, 2, 2, 2, 1, 1, 2]\n",
    "\n",
    "# check whether annotation of cluster sizes is valid\n",
    "assert sum(cluster_sizes) == len(df)\n"
   ]
  },
  {
   "cell_type": "code",
   "execution_count": 9,
   "id": "7511e58f-c52e-442b-87d8-e56384c8881d",
   "metadata": {},
   "outputs": [
    {
     "data": {
      "text/plain": [
       "['SMG 1-1',\n",
       " 'SMG 1-2',\n",
       " 'SMG 2-1',\n",
       " 'SMG 2-2',\n",
       " 'SMG 2-3',\n",
       " 'SMG 3-1',\n",
       " 'SMG 3-2',\n",
       " 'SMG 4-1',\n",
       " 'SMG 4-2',\n",
       " 'SMG 5-1',\n",
       " 'SMG 5-2',\n",
       " 'SMG 6-1',\n",
       " 'SMG 7-1',\n",
       " 'SMG 8-1',\n",
       " 'SMG 8-2']"
      ]
     },
     "execution_count": 9,
     "metadata": {},
     "output_type": "execute_result"
    }
   ],
   "source": [
    "# Annotate the SMG id and field id using cluster sizes\n",
    "\n",
    "SMG_id = []\n",
    "field_id = []\n",
    "for i in range(len(cluster_sizes)):\n",
    "    for j in range(cluster_sizes[i]):\n",
    "        SMG_id.append(i+1)\n",
    "        field_id.append(j+1)\n",
    "\n",
    "image_id = ['SMG '+str(SMG_id[i])+'-'+str(field_id[i]) for i in range(len(df))]\n",
    "image_id"
   ]
  },
  {
   "cell_type": "code",
   "execution_count": 28,
   "id": "dbf4475e-ba63-4b2f-b2e0-b84c5bc66025",
   "metadata": {},
   "outputs": [],
   "source": [
    "# Rename the image file names by prefixing with SMG id info\n",
    "\n",
    "image_file_name = df.file_name.tolist()\n",
    "new_image_file_name = [ image_id[i] + ' ' + image_file_name[i] for i in range(len(df))]\n",
    "\n",
    "for i in range(len(df)):\n",
    "    old_f_name = os.path.join(image_folder, image_file_name[i])\n",
    "    new_f_name = os.path.join(image_folder, new_image_file_name[i])\n",
    "    os.rename(old_f_name, new_f_name)"
   ]
  },
  {
   "cell_type": "code",
   "execution_count": null,
   "id": "5f105d4e-901e-4ee7-a2cd-7dfdd8fd5ea0",
   "metadata": {},
   "outputs": [],
   "source": []
  }
 ],
 "metadata": {
  "kernelspec": {
   "display_name": "Python 3 (ipykernel)",
   "language": "python",
   "name": "python3"
  },
  "language_info": {
   "codemirror_mode": {
    "name": "ipython",
    "version": 3
   },
   "file_extension": ".py",
   "mimetype": "text/x-python",
   "name": "python",
   "nbconvert_exporter": "python",
   "pygments_lexer": "ipython3",
   "version": "3.9.5"
  }
 },
 "nbformat": 4,
 "nbformat_minor": 5
}
